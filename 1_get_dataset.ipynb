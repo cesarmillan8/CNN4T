{
 "cells": [
  {
   "cell_type": "code",
   "execution_count": 1,
   "metadata": {},
   "outputs": [],
   "source": [
    "import os\n",
    "import pandas as pd\n",
    "import yfinance as yf"
   ]
  },
  {
   "cell_type": "markdown",
   "metadata": {},
   "source": [
    "#### **Initialization**"
   ]
  },
  {
   "cell_type": "code",
   "execution_count": 2,
   "metadata": {},
   "outputs": [],
   "source": [
    "finance_stock = 'XLE'"
   ]
  },
  {
   "cell_type": "code",
   "execution_count": 3,
   "metadata": {},
   "outputs": [],
   "source": [
    "# Parámetros\n",
    "start = '1994-01-01'\n",
    "end = '2023-12-31'\n",
    "interval = '1d'\n",
    "interval = '1d'\n",
    "training_folder = 'training_data'\n",
    "testing_folder = 'testing_data'"
   ]
  },
  {
   "cell_type": "markdown",
   "metadata": {},
   "source": [
    "#### **Single year segmentation**"
   ]
  },
  {
   "cell_type": "code",
   "execution_count": null,
   "metadata": {},
   "outputs": [],
   "source": [
    "# Cargar datos\n",
    "data = yf.download(finance_stock, start=start, end=end, interval=interval, period='1d')\n",
    "data.index = pd.to_datetime(data.index)\n",
    "data.reset_index(inplace=True)"
   ]
  },
  {
   "cell_type": "code",
   "execution_count": null,
   "metadata": {},
   "outputs": [],
   "source": [
    "# Extraer años inicial y final de los datos descargados\n",
    "dataset = f'data/{finance_stock}'\n",
    "os.makedirs(dataset, exist_ok=True)\n",
    "\n",
    "# Guardar los archivos CSV en las carpetas correspondientes\n",
    "filename = os.path.join(dataset, f'data.csv')\n",
    "data.to_csv(filename, index=False)\n",
    "\n",
    "print(f'Saved {filename}')"
   ]
  },
  {
   "cell_type": "markdown",
   "metadata": {},
   "source": [
    "#### **Multiple year segmentation**"
   ]
  },
  {
   "cell_type": "code",
   "execution_count": 4,
   "metadata": {},
   "outputs": [
    {
     "name": "stderr",
     "output_type": "stream",
     "text": [
      "[*********************100%%**********************]  1 of 1 completed\n"
     ]
    }
   ],
   "source": [
    "# Cargar datos\n",
    "data = yf.download(finance_stock, start=start, end=end, interval=interval, period='1d')\n",
    "data.index = pd.to_datetime(data.index)\n",
    "data.reset_index(inplace=True)\n"
   ]
  },
  {
   "cell_type": "code",
   "execution_count": 5,
   "metadata": {},
   "outputs": [
    {
     "data": {
      "text/html": [
       "<div>\n",
       "<style scoped>\n",
       "    .dataframe tbody tr th:only-of-type {\n",
       "        vertical-align: middle;\n",
       "    }\n",
       "\n",
       "    .dataframe tbody tr th {\n",
       "        vertical-align: top;\n",
       "    }\n",
       "\n",
       "    .dataframe thead th {\n",
       "        text-align: right;\n",
       "    }\n",
       "</style>\n",
       "<table border=\"1\" class=\"dataframe\">\n",
       "  <thead>\n",
       "    <tr style=\"text-align: right;\">\n",
       "      <th></th>\n",
       "      <th>Date</th>\n",
       "      <th>Open</th>\n",
       "      <th>High</th>\n",
       "      <th>Low</th>\n",
       "      <th>Close</th>\n",
       "      <th>Adj Close</th>\n",
       "      <th>Volume</th>\n",
       "    </tr>\n",
       "  </thead>\n",
       "  <tbody>\n",
       "    <tr>\n",
       "      <th>0</th>\n",
       "      <td>1998-12-22</td>\n",
       "      <td>23.31250</td>\n",
       "      <td>23.390625</td>\n",
       "      <td>23.18750</td>\n",
       "      <td>23.265625</td>\n",
       "      <td>12.034077</td>\n",
       "      <td>15200</td>\n",
       "    </tr>\n",
       "    <tr>\n",
       "      <th>1</th>\n",
       "      <td>1998-12-23</td>\n",
       "      <td>23.34375</td>\n",
       "      <td>23.750000</td>\n",
       "      <td>23.31250</td>\n",
       "      <td>23.750000</td>\n",
       "      <td>12.284611</td>\n",
       "      <td>67800</td>\n",
       "    </tr>\n",
       "    <tr>\n",
       "      <th>2</th>\n",
       "      <td>1998-12-24</td>\n",
       "      <td>23.81250</td>\n",
       "      <td>23.812500</td>\n",
       "      <td>23.59375</td>\n",
       "      <td>23.625000</td>\n",
       "      <td>12.219960</td>\n",
       "      <td>12300</td>\n",
       "    </tr>\n",
       "    <tr>\n",
       "      <th>3</th>\n",
       "      <td>1998-12-28</td>\n",
       "      <td>23.75000</td>\n",
       "      <td>23.750000</td>\n",
       "      <td>23.34375</td>\n",
       "      <td>23.500000</td>\n",
       "      <td>12.155307</td>\n",
       "      <td>13500</td>\n",
       "    </tr>\n",
       "    <tr>\n",
       "      <th>4</th>\n",
       "      <td>1998-12-29</td>\n",
       "      <td>23.56250</td>\n",
       "      <td>23.734375</td>\n",
       "      <td>23.34375</td>\n",
       "      <td>23.734375</td>\n",
       "      <td>12.276530</td>\n",
       "      <td>22000</td>\n",
       "    </tr>\n",
       "  </tbody>\n",
       "</table>\n",
       "</div>"
      ],
      "text/plain": [
       "        Date      Open       High       Low      Close  Adj Close  Volume\n",
       "0 1998-12-22  23.31250  23.390625  23.18750  23.265625  12.034077   15200\n",
       "1 1998-12-23  23.34375  23.750000  23.31250  23.750000  12.284611   67800\n",
       "2 1998-12-24  23.81250  23.812500  23.59375  23.625000  12.219960   12300\n",
       "3 1998-12-28  23.75000  23.750000  23.34375  23.500000  12.155307   13500\n",
       "4 1998-12-29  23.56250  23.734375  23.34375  23.734375  12.276530   22000"
      ]
     },
     "execution_count": 5,
     "metadata": {},
     "output_type": "execute_result"
    }
   ],
   "source": [
    "data.head()"
   ]
  },
  {
   "cell_type": "code",
   "execution_count": 9,
   "metadata": {},
   "outputs": [
    {
     "name": "stdout",
     "output_type": "stream",
     "text": [
      "Saved data/XLE/dataset/dataset001\\training.csv and data/XLE/dataset/dataset001\\testing.csv\n",
      "Saved data/XLE/dataset/dataset002\\training.csv and data/XLE/dataset/dataset002\\testing.csv\n",
      "Saved data/XLE/dataset/dataset003\\training.csv and data/XLE/dataset/dataset003\\testing.csv\n",
      "Saved data/XLE/dataset/dataset004\\training.csv and data/XLE/dataset/dataset004\\testing.csv\n",
      "Saved data/XLE/dataset/dataset005\\training.csv and data/XLE/dataset/dataset005\\testing.csv\n",
      "Saved data/XLE/dataset/dataset006\\training.csv and data/XLE/dataset/dataset006\\testing.csv\n",
      "Saved data/XLE/dataset/dataset007\\training.csv and data/XLE/dataset/dataset007\\testing.csv\n",
      "Saved data/XLE/dataset/dataset008\\training.csv and data/XLE/dataset/dataset008\\testing.csv\n",
      "Saved data/XLE/dataset/dataset009\\training.csv and data/XLE/dataset/dataset009\\testing.csv\n",
      "Saved data/XLE/dataset/dataset010\\training.csv and data/XLE/dataset/dataset010\\testing.csv\n",
      "Saved data/XLE/dataset/dataset011\\training.csv and data/XLE/dataset/dataset011\\testing.csv\n",
      "Saved data/XLE/dataset/dataset012\\training.csv and data/XLE/dataset/dataset012\\testing.csv\n",
      "Saved data/XLE/dataset/dataset013\\training.csv and data/XLE/dataset/dataset013\\testing.csv\n",
      "Saved data/XLE/dataset/dataset014\\training.csv and data/XLE/dataset/dataset014\\testing.csv\n",
      "Saved data/XLE/dataset/dataset015\\training.csv and data/XLE/dataset/dataset015\\testing.csv\n",
      "Saved data/XLE/dataset/dataset016\\training.csv and data/XLE/dataset/dataset016\\testing.csv\n",
      "Saved data/XLE/dataset/dataset017\\training.csv and data/XLE/dataset/dataset017\\testing.csv\n",
      "Saved data/XLE/dataset/dataset018\\training.csv and data/XLE/dataset/dataset018\\testing.csv\n",
      "Saved data/XLE/dataset/dataset019\\training.csv and data/XLE/dataset/dataset019\\testing.csv\n",
      "Saved data/XLE/dataset/dataset020\\training.csv and data/XLE/dataset/dataset020\\testing.csv\n",
      "Saved data/XLE/dataset/dataset021\\training.csv and data/XLE/dataset/dataset021\\testing.csv\n"
     ]
    }
   ],
   "source": [
    "# Extraer años inicial y final de los datos descargados\n",
    "initial_year = data['Date'].dt.year.min()\n",
    "final_year = data['Date'].dt.year.max()\n",
    "dataset = f'data/{finance_stock}/dataset'\n",
    "os.makedirs(dataset, exist_ok=True)\n",
    "\n",
    "# Recorrido por los años\n",
    "training_counter = 0\n",
    "testing_counter = 1\n",
    "\n",
    "for year in range(initial_year, final_year - 4):\n",
    "    img_number = f'{training_counter + 1:03}' \n",
    "    folder_path = f'{dataset}/dataset{img_number}'\n",
    "    # Crear carpetas si no existen\n",
    "    os.makedirs(folder_path, exist_ok=True)\n",
    "    # Intervalo de entrenamiento de 5 años\n",
    "    train_start = f'{year}-01-01'\n",
    "    train_end = f'{year + 4}-12-31'\n",
    "    test_start = f'{year + 5}-01-01'\n",
    "    test_end = f'{year + 5}-12-31'\n",
    "\n",
    "    # Crear conjunto de datos de entrenamiento\n",
    "    training_data = data[(data['Date'] >= train_start) & (data['Date'] <= train_end)]\n",
    "    \n",
    "    # Crear conjunto de datos de prueba\n",
    "    testing_data = data[(data['Date'] >= test_start) & (data['Date'] <= test_end)]\n",
    "    \n",
    "    # Guardar los archivos CSV en las carpetas correspondientes\n",
    "    training_filename = os.path.join(folder_path, f'training.csv')\n",
    "    testing_filename = os.path.join(folder_path, f'testing.csv')\n",
    "    \n",
    "    training_data.to_csv(training_filename, index=False)\n",
    "    testing_data.to_csv(testing_filename, index=False)\n",
    "    \n",
    "    print(f'Saved {training_filename} and {testing_filename}')\n",
    "    \n",
    "    # Incrementar contadores\n",
    "    training_counter += 1\n",
    "    testing_counter += 1\n"
   ]
  }
 ],
 "metadata": {
  "kernelspec": {
   "display_name": "Python 3",
   "language": "python",
   "name": "python3"
  },
  "language_info": {
   "codemirror_mode": {
    "name": "ipython",
    "version": 3
   },
   "file_extension": ".py",
   "mimetype": "text/x-python",
   "name": "python",
   "nbconvert_exporter": "python",
   "pygments_lexer": "ipython3",
   "version": "3.10.6"
  }
 },
 "nbformat": 4,
 "nbformat_minor": 2
}
